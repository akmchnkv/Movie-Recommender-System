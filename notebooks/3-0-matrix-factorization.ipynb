{
 "cells": [
  {
   "cell_type": "code",
   "execution_count": 1,
   "metadata": {
    "execution": {
     "iopub.execute_input": "2023-12-03T18:53:10.670728Z",
     "iopub.status.busy": "2023-12-03T18:53:10.669953Z",
     "iopub.status.idle": "2023-12-03T18:53:11.954992Z",
     "shell.execute_reply": "2023-12-03T18:53:11.954114Z",
     "shell.execute_reply.started": "2023-12-03T18:53:10.670699Z"
    }
   },
   "outputs": [
    {
     "name": "stderr",
     "output_type": "stream",
     "text": [
      "/opt/conda/lib/python3.10/site-packages/scipy/__init__.py:146: UserWarning: A NumPy version >=1.16.5 and <1.23.0 is required for this version of SciPy (detected version 1.24.3\n",
      "  warnings.warn(f\"A NumPy version >={np_minversion} and <{np_maxversion}\"\n"
     ]
    }
   ],
   "source": [
    "import pandas as pd\n",
    "from sklearn.model_selection import train_test_split\n",
    "\n",
    "import warnings\n",
    "warnings.filterwarnings(\"ignore\")"
   ]
  },
  {
   "cell_type": "code",
   "execution_count": 2,
   "metadata": {
    "execution": {
     "iopub.execute_input": "2023-12-03T18:53:11.957280Z",
     "iopub.status.busy": "2023-12-03T18:53:11.956837Z",
     "iopub.status.idle": "2023-12-03T18:53:12.032762Z",
     "shell.execute_reply": "2023-12-03T18:53:12.031857Z",
     "shell.execute_reply.started": "2023-12-03T18:53:11.957251Z"
    }
   },
   "outputs": [
    {
     "data": {
      "text/html": [
       "<div>\n",
       "<style scoped>\n",
       "    .dataframe tbody tr th:only-of-type {\n",
       "        vertical-align: middle;\n",
       "    }\n",
       "\n",
       "    .dataframe tbody tr th {\n",
       "        vertical-align: top;\n",
       "    }\n",
       "\n",
       "    .dataframe thead th {\n",
       "        text-align: right;\n",
       "    }\n",
       "</style>\n",
       "<table border=\"1\" class=\"dataframe\">\n",
       "  <thead>\n",
       "    <tr style=\"text-align: right;\">\n",
       "      <th></th>\n",
       "      <th>user_id</th>\n",
       "      <th>movie_id</th>\n",
       "      <th>rating</th>\n",
       "    </tr>\n",
       "  </thead>\n",
       "  <tbody>\n",
       "    <tr>\n",
       "      <th>0</th>\n",
       "      <td>196</td>\n",
       "      <td>242</td>\n",
       "      <td>3</td>\n",
       "    </tr>\n",
       "    <tr>\n",
       "      <th>1</th>\n",
       "      <td>186</td>\n",
       "      <td>302</td>\n",
       "      <td>3</td>\n",
       "    </tr>\n",
       "    <tr>\n",
       "      <th>2</th>\n",
       "      <td>22</td>\n",
       "      <td>377</td>\n",
       "      <td>1</td>\n",
       "    </tr>\n",
       "    <tr>\n",
       "      <th>3</th>\n",
       "      <td>244</td>\n",
       "      <td>51</td>\n",
       "      <td>2</td>\n",
       "    </tr>\n",
       "    <tr>\n",
       "      <th>4</th>\n",
       "      <td>166</td>\n",
       "      <td>346</td>\n",
       "      <td>1</td>\n",
       "    </tr>\n",
       "  </tbody>\n",
       "</table>\n",
       "</div>"
      ],
      "text/plain": [
       "   user_id  movie_id  rating\n",
       "0      196       242       3\n",
       "1      186       302       3\n",
       "2       22       377       1\n",
       "3      244        51       2\n",
       "4      166       346       1"
      ]
     },
     "execution_count": 2,
     "metadata": {},
     "output_type": "execute_result"
    }
   ],
   "source": [
    "rating_df = pd.read_csv('../data/interim/rating_df.csv')\n",
    "# rating_df = pd.read_csv('/kaggle/input/movielens/rating_df.csv')\n",
    "rating_df.head()"
   ]
  },
  {
   "cell_type": "code",
   "execution_count": 3,
   "metadata": {
    "execution": {
     "iopub.execute_input": "2023-12-03T18:53:12.034168Z",
     "iopub.status.busy": "2023-12-03T18:53:12.033856Z",
     "iopub.status.idle": "2023-12-03T18:53:12.116716Z",
     "shell.execute_reply": "2023-12-03T18:53:12.115803Z",
     "shell.execute_reply.started": "2023-12-03T18:53:12.034143Z"
    }
   },
   "outputs": [],
   "source": [
    "train_df, val_df = train_test_split(rating_df, test_size=0.2, \n",
    "                                    stratify=rating_df['user_id'], random_state=42)"
   ]
  },
  {
   "cell_type": "code",
   "execution_count": 4,
   "metadata": {
    "execution": {
     "iopub.execute_input": "2023-12-03T18:53:12.120656Z",
     "iopub.status.busy": "2023-12-03T18:53:12.119980Z",
     "iopub.status.idle": "2023-12-03T18:53:12.125877Z",
     "shell.execute_reply": "2023-12-03T18:53:12.124924Z",
     "shell.execute_reply.started": "2023-12-03T18:53:12.120619Z"
    }
   },
   "outputs": [
    {
     "name": "stdout",
     "output_type": "stream",
     "text": [
      "(80000, 3) (20000, 3)\n"
     ]
    }
   ],
   "source": [
    "print(train_df.shape, val_df.shape)"
   ]
  },
  {
   "cell_type": "markdown",
   "metadata": {},
   "source": [
    "## DataLoader"
   ]
  },
  {
   "cell_type": "code",
   "execution_count": 5,
   "metadata": {
    "execution": {
     "iopub.execute_input": "2023-12-03T18:53:12.127836Z",
     "iopub.status.busy": "2023-12-03T18:53:12.127386Z",
     "iopub.status.idle": "2023-12-03T18:53:15.880586Z",
     "shell.execute_reply": "2023-12-03T18:53:15.879650Z",
     "shell.execute_reply.started": "2023-12-03T18:53:12.127809Z"
    }
   },
   "outputs": [],
   "source": [
    "from torch.utils.data import Dataset, DataLoader\n",
    "\n",
    "class MovieDataset(Dataset):\n",
    "    \"\"\"\n",
    "        MovieDataset class for handling user-item-rating data\n",
    "    \"\"\"\n",
    "    def __init__(self, df):\n",
    "        self.df = df\n",
    "\n",
    "    def __len__(self):\n",
    "        return len(self.df)\n",
    "\n",
    "    def __getitem__(self, idx):\n",
    "        user_id, item_id, rating = self.df.iloc[idx]\n",
    "        sample = {\"user\": user_id - 1, \"item\": item_id - 1, \"rating\": rating}\n",
    "        return sample\n",
    "    \n",
    "train_loader = DataLoader(MovieDataset(train_df), batch_size=16, shuffle=True)\n",
    "val_loader = DataLoader(MovieDataset(val_df), batch_size=16, shuffle=False,)"
   ]
  },
  {
   "cell_type": "markdown",
   "metadata": {},
   "source": [
    "## Matrix Factorization Model"
   ]
  },
  {
   "cell_type": "markdown",
   "metadata": {},
   "source": [
    "Reference: https://towardsdatascience.com/recommendation-system-matrix-factorization-d61978660b4b\n",
    "\n",
    "This implementation defines a simple Matrix Factorization model using PyTorch. The model learns embeddings for users and items and predicts ratings by taking the dot product of the user and item embeddings."
   ]
  },
  {
   "cell_type": "code",
   "execution_count": 6,
   "metadata": {
    "execution": {
     "iopub.execute_input": "2023-12-03T18:53:15.882335Z",
     "iopub.status.busy": "2023-12-03T18:53:15.881804Z",
     "iopub.status.idle": "2023-12-03T18:53:15.917376Z",
     "shell.execute_reply": "2023-12-03T18:53:15.916359Z",
     "shell.execute_reply.started": "2023-12-03T18:53:15.882297Z"
    }
   },
   "outputs": [],
   "source": [
    "import torch\n",
    "import torch.nn as nn\n",
    "from torch import optim\n",
    "\n",
    "class MatrixFactorization(nn.Module):\n",
    "    \"\"\"\n",
    "        MatrixFactorization model for collaborative filtering.\n",
    "\n",
    "        Parameters:\n",
    "        - num_users (int): Number of users in the user-item interaction matrix\n",
    "        - num_items (int): Number of items in the user-item interaction matrix\n",
    "        - embedding_dim (int): Dimensionality of the user and item embeddings\n",
    "\n",
    "        Note:\n",
    "        - sparse=True is used for embedding layers to handle sparse inputs efficiently\n",
    "    \"\"\"\n",
    "    \n",
    "    def __init__(self, num_users, num_items, embedding_dim=20):\n",
    "        super(MatrixFactorization, self).__init__()\n",
    "        self.user_embeddings = nn.Embedding(num_users, embedding_dim, sparse=True)\n",
    "        self.item_embeddings = nn.Embedding(num_items, embedding_dim, sparse=True)\n",
    "\n",
    "    def forward(self, user_input, item_input):\n",
    "        \"\"\"\n",
    "            Forward pass of the model\n",
    "\n",
    "            Parameters:\n",
    "            - user_input (torch.Tensor): Input tensor representing user indices\n",
    "            - item_input (torch.Tensor): Input tensor representing item indices\n",
    "\n",
    "            Returns:\n",
    "            - torch.Tensor: Predicted ratings\n",
    "        \"\"\"\n",
    "        user_emb = self.user_embeddings(user_input)\n",
    "        item_emb = self.item_embeddings(item_input)\n",
    "        return torch.sum(user_emb * item_emb, dim=1)\n",
    "    \n",
    "num_user = 943\n",
    "num_item = 1682\n",
    "\n",
    "model = MatrixFactorization(num_user, num_item)"
   ]
  },
  {
   "cell_type": "code",
   "execution_count": 7,
   "metadata": {
    "execution": {
     "iopub.execute_input": "2023-12-03T18:53:15.919483Z",
     "iopub.status.busy": "2023-12-03T18:53:15.919092Z",
     "iopub.status.idle": "2023-12-03T18:53:15.932962Z",
     "shell.execute_reply": "2023-12-03T18:53:15.932036Z",
     "shell.execute_reply.started": "2023-12-03T18:53:15.919447Z"
    }
   },
   "outputs": [],
   "source": [
    "from tqdm import tqdm\n",
    "\n",
    "train_losses = []  \n",
    "valid_losses = []\n",
    "    \n",
    "def train(model, device, num_epochs, train_loader, valid_loader, loss_fn, optimizer):\n",
    "    model.to(device)\n",
    "    \n",
    "    for epoch in range(1, num_epochs + 1):\n",
    "        model.train()\n",
    "        epoch_loss = 0\n",
    "        with tqdm(\n",
    "            total=len(train_df), desc=f\"Epoch {epoch}/{num_epochs}\", unit=\"items\"\n",
    "        ) as pbar:\n",
    "            for batch in train_loader:\n",
    "                user = batch['user']\n",
    "                item = batch['item']\n",
    "                rating = batch['rating']\n",
    "                \n",
    "                user, item, rating = user.to(device), item.to(device), rating.to(device)\n",
    "                optimizer.zero_grad()\n",
    "\n",
    "                outputs = model(user, item)\n",
    "                loss = loss_fn(outputs, rating.float())\n",
    "                loss.backward()\n",
    "                optimizer.step()\n",
    "\n",
    "                epoch_loss += loss.item()\n",
    "                pbar.update(user.shape[0])\n",
    "                pbar.set_postfix(**{\"loss (batch)\": loss.item()})\n",
    "                \n",
    "        average_train_loss = epoch_loss / len(train_loader)\n",
    "        train_losses.append(average_train_loss)\n",
    "        \n",
    "        model.eval()\n",
    "        \n",
    "        with tqdm(total=len(val_df), desc=f\"Validation\", unit=\"items\") as pbar:\n",
    "            with torch.no_grad():\n",
    "                for batch in val_loader:\n",
    "                    user = batch['user']\n",
    "                    item = batch['item']\n",
    "                    rating = batch['rating']\n",
    "                    user, item, rating = user.to(device), item.to(device), rating.to(device)\n",
    "\n",
    "                    outputs = model(user, item)\n",
    "                    loss = loss_fn(outputs, rating)\n",
    "            \n",
    "                    pbar.update(user.shape[0])\n",
    "                    epoch_loss += loss.item()\n",
    "                    pbar.set_postfix(**{\"loss (batch)\": loss.item()})\n",
    "                    \n",
    "        average_valid_loss = epoch_loss / len(valid_loader)\n",
    "        valid_losses.append(average_valid_loss)"
   ]
  },
  {
   "cell_type": "code",
   "execution_count": 8,
   "metadata": {
    "execution": {
     "iopub.execute_input": "2023-12-03T18:53:15.935011Z",
     "iopub.status.busy": "2023-12-03T18:53:15.934307Z",
     "iopub.status.idle": "2023-12-03T19:02:10.411514Z",
     "shell.execute_reply": "2023-12-03T19:02:10.410618Z",
     "shell.execute_reply.started": "2023-12-03T18:53:15.934976Z"
    }
   },
   "outputs": [
    {
     "name": "stderr",
     "output_type": "stream",
     "text": [
      "Epoch 1/30: 100%|██████████| 80000/80000 [00:14<00:00, 5360.05items/s, loss (batch)=21]  \n",
      "Validation: 100%|██████████| 20000/20000 [00:02<00:00, 6845.39items/s, loss (batch)=27]  \n",
      "Epoch 2/30: 100%|██████████| 80000/80000 [00:14<00:00, 5373.62items/s, loss (batch)=20.9]\n",
      "Validation: 100%|██████████| 20000/20000 [00:02<00:00, 6954.42items/s, loss (batch)=22.8]\n",
      "Epoch 3/30: 100%|██████████| 80000/80000 [00:14<00:00, 5380.01items/s, loss (batch)=13.4]\n",
      "Validation: 100%|██████████| 20000/20000 [00:02<00:00, 6757.71items/s, loss (batch)=20]  \n",
      "Epoch 4/30: 100%|██████████| 80000/80000 [00:14<00:00, 5358.69items/s, loss (batch)=14]  \n",
      "Validation: 100%|██████████| 20000/20000 [00:02<00:00, 6774.33items/s, loss (batch)=17.3]\n",
      "Epoch 5/30: 100%|██████████| 80000/80000 [00:14<00:00, 5412.42items/s, loss (batch)=11.6]\n",
      "Validation: 100%|██████████| 20000/20000 [00:02<00:00, 6691.95items/s, loss (batch)=14.3]\n",
      "Epoch 6/30: 100%|██████████| 80000/80000 [00:14<00:00, 5356.16items/s, loss (batch)=3.12]\n",
      "Validation: 100%|██████████| 20000/20000 [00:02<00:00, 6676.68items/s, loss (batch)=11.6]\n",
      "Epoch 7/30: 100%|██████████| 80000/80000 [00:14<00:00, 5356.17items/s, loss (batch)=6.17]\n",
      "Validation: 100%|██████████| 20000/20000 [00:03<00:00, 6552.54items/s, loss (batch)=9.62]\n",
      "Epoch 8/30: 100%|██████████| 80000/80000 [00:14<00:00, 5411.55items/s, loss (batch)=9.91] \n",
      "Validation: 100%|██████████| 20000/20000 [00:02<00:00, 6697.54items/s, loss (batch)=8.13]\n",
      "Epoch 9/30: 100%|██████████| 80000/80000 [00:14<00:00, 5358.25items/s, loss (batch)=3.73] \n",
      "Validation: 100%|██████████| 20000/20000 [00:02<00:00, 6822.92items/s, loss (batch)=7.01] \n",
      "Epoch 10/30: 100%|██████████| 80000/80000 [00:14<00:00, 5446.88items/s, loss (batch)=3.68] \n",
      "Validation: 100%|██████████| 20000/20000 [00:02<00:00, 6869.10items/s, loss (batch)=6.15] \n",
      "Epoch 11/30: 100%|██████████| 80000/80000 [00:14<00:00, 5423.70items/s, loss (batch)=4.55] \n",
      "Validation: 100%|██████████| 20000/20000 [00:02<00:00, 6845.23items/s, loss (batch)=5.47] \n",
      "Epoch 12/30: 100%|██████████| 80000/80000 [00:14<00:00, 5401.43items/s, loss (batch)=1.56] \n",
      "Validation: 100%|██████████| 20000/20000 [00:02<00:00, 6666.68items/s, loss (batch)=4.97] \n",
      "Epoch 13/30: 100%|██████████| 80000/80000 [00:15<00:00, 5253.57items/s, loss (batch)=1.29] \n",
      "Validation: 100%|██████████| 20000/20000 [00:03<00:00, 6538.13items/s, loss (batch)=4.57] \n",
      "Epoch 14/30: 100%|██████████| 80000/80000 [00:14<00:00, 5472.16items/s, loss (batch)=3.59] \n",
      "Validation: 100%|██████████| 20000/20000 [00:03<00:00, 6570.66items/s, loss (batch)=4.31] \n",
      "Epoch 15/30: 100%|██████████| 80000/80000 [00:14<00:00, 5542.28items/s, loss (batch)=2.3]  \n",
      "Validation: 100%|██████████| 20000/20000 [00:02<00:00, 6995.35items/s, loss (batch)=4.06] \n",
      "Epoch 16/30: 100%|██████████| 80000/80000 [00:14<00:00, 5454.09items/s, loss (batch)=1.96] \n",
      "Validation: 100%|██████████| 20000/20000 [00:02<00:00, 6844.70items/s, loss (batch)=3.87] \n",
      "Epoch 17/30: 100%|██████████| 80000/80000 [00:14<00:00, 5509.15items/s, loss (batch)=1.53] \n",
      "Validation: 100%|██████████| 20000/20000 [00:02<00:00, 6812.68items/s, loss (batch)=3.74] \n",
      "Epoch 18/30: 100%|██████████| 80000/80000 [00:14<00:00, 5427.44items/s, loss (batch)=1.31] \n",
      "Validation: 100%|██████████| 20000/20000 [00:02<00:00, 6798.30items/s, loss (batch)=3.61] \n",
      "Epoch 19/30: 100%|██████████| 80000/80000 [00:14<00:00, 5442.45items/s, loss (batch)=1.05] \n",
      "Validation: 100%|██████████| 20000/20000 [00:02<00:00, 6932.33items/s, loss (batch)=3.52] \n",
      "Epoch 20/30: 100%|██████████| 80000/80000 [00:14<00:00, 5388.54items/s, loss (batch)=1.34] \n",
      "Validation: 100%|██████████| 20000/20000 [00:02<00:00, 6871.77items/s, loss (batch)=3.45] \n",
      "Epoch 21/30: 100%|██████████| 80000/80000 [00:14<00:00, 5541.60items/s, loss (batch)=2]    \n",
      "Validation: 100%|██████████| 20000/20000 [00:02<00:00, 6920.30items/s, loss (batch)=3.36] \n",
      "Epoch 22/30: 100%|██████████| 80000/80000 [00:14<00:00, 5456.90items/s, loss (batch)=0.924]\n",
      "Validation: 100%|██████████| 20000/20000 [00:02<00:00, 6803.59items/s, loss (batch)=3.3]  \n",
      "Epoch 23/30: 100%|██████████| 80000/80000 [00:14<00:00, 5470.33items/s, loss (batch)=0.9]  \n",
      "Validation: 100%|██████████| 20000/20000 [00:03<00:00, 6498.94items/s, loss (batch)=3.23] \n",
      "Epoch 24/30: 100%|██████████| 80000/80000 [00:14<00:00, 5546.92items/s, loss (batch)=0.774]\n",
      "Validation: 100%|██████████| 20000/20000 [00:02<00:00, 7048.96items/s, loss (batch)=3.17] \n",
      "Epoch 25/30: 100%|██████████| 80000/80000 [00:14<00:00, 5488.12items/s, loss (batch)=0.323]\n",
      "Validation: 100%|██████████| 20000/20000 [00:02<00:00, 6907.17items/s, loss (batch)=3.13] \n",
      "Epoch 26/30: 100%|██████████| 80000/80000 [00:14<00:00, 5537.97items/s, loss (batch)=1.95] \n",
      "Validation: 100%|██████████| 20000/20000 [00:02<00:00, 7007.17items/s, loss (batch)=3.1]  \n",
      "Epoch 27/30: 100%|██████████| 80000/80000 [00:14<00:00, 5388.28items/s, loss (batch)=1.23] \n",
      "Validation: 100%|██████████| 20000/20000 [00:02<00:00, 6836.83items/s, loss (batch)=3.02] \n",
      "Epoch 28/30: 100%|██████████| 80000/80000 [00:14<00:00, 5363.21items/s, loss (batch)=0.797]\n",
      "Validation: 100%|██████████| 20000/20000 [00:02<00:00, 6725.98items/s, loss (batch)=2.97] \n",
      "Epoch 29/30: 100%|██████████| 80000/80000 [00:14<00:00, 5363.77items/s, loss (batch)=1.5]  \n",
      "Validation: 100%|██████████| 20000/20000 [00:02<00:00, 6687.28items/s, loss (batch)=2.93] \n",
      "Epoch 30/30: 100%|██████████| 80000/80000 [00:14<00:00, 5402.49items/s, loss (batch)=0.682]\n",
      "Validation: 100%|██████████| 20000/20000 [00:02<00:00, 6782.32items/s, loss (batch)=2.91] \n"
     ]
    }
   ],
   "source": [
    "device = torch.device('cuda' if torch.cuda.is_available() else 'cpu')\n",
    "\n",
    "loss_fn = nn.MSELoss()\n",
    "optimizer = optim.SGD(model.parameters(), lr=0.01)\n",
    "num_epoch = 30\n",
    "train(model, device, num_epoch, train_loader, val_loader, loss_fn, optimizer)"
   ]
  },
  {
   "cell_type": "code",
   "execution_count": 10,
   "metadata": {
    "execution": {
     "iopub.execute_input": "2023-12-03T19:03:39.796255Z",
     "iopub.status.busy": "2023-12-03T19:03:39.795526Z",
     "iopub.status.idle": "2023-12-03T19:03:40.106008Z",
     "shell.execute_reply": "2023-12-03T19:03:40.105035Z",
     "shell.execute_reply.started": "2023-12-03T19:03:39.796223Z"
    }
   },
   "outputs": [
    {
     "data": {
      "image/png": "[encoded data removed]",
      "text/plain": [
       "<Figure size 800x400 with 1 Axes>"
      ]
     },
     "metadata": {},
     "output_type": "display_data"
    }
   ],
   "source": [
    "import matplotlib.pyplot as plt\n",
    "\n",
    "# Plot training and validation losses over epochs\n",
    "plt.figure(figsize = (8,4))\n",
    "plt.plot(range(1, num_epoch + 1), train_losses, 'r--', label='Training Loss')\n",
    "plt.plot(range(1, num_epoch + 1), valid_losses, 'b-', label='Validation Loss')\n",
    "plt.xlabel('Epoch')\n",
    "plt.ylabel('Loss')\n",
    "plt.legend()\n",
    "plt.show()"
   ]
  },
  {
   "cell_type": "code",
   "execution_count": 20,
   "metadata": {
    "execution": {
     "iopub.execute_input": "2023-12-03T19:26:21.407898Z",
     "iopub.status.busy": "2023-12-03T19:26:21.407523Z",
     "iopub.status.idle": "2023-12-03T19:26:21.854076Z",
     "shell.execute_reply": "2023-12-03T19:26:21.853136Z",
     "shell.execute_reply.started": "2023-12-03T19:26:21.407869Z"
    }
   },
   "outputs": [
    {
     "data": {
      "image/png": "[encoded data removed]",
      "text/plain": [
       "<Figure size 640x480 with 1 Axes>"
      ]
     },
     "metadata": {},
     "output_type": "display_data"
    }
   ],
   "source": [
    "user_embeddings = model.user_embeddings.weight.cpu().detach().numpy()\n",
    "item_embeddings = model.item_embeddings.weight.cpu().detach().numpy()\n",
    "\n",
    "plt.scatter(user_embeddings[:, 0], user_embeddings[:, 1], label='User Embeddings')\n",
    "plt.scatter(item_embeddings[:, 0], item_embeddings[:, 1], label='Item Embeddings')\n",
    "plt.legend()\n",
    "plt.xlabel('Dimension 1')\n",
    "plt.ylabel('Dimension 2')\n",
    "plt.title('User and Item Embeddings')\n",
    "plt.show()"
   ]
  },
  {
   "cell_type": "code",
   "execution_count": 11,
   "metadata": {
    "execution": {
     "iopub.execute_input": "2023-12-03T19:03:51.501593Z",
     "iopub.status.busy": "2023-12-03T19:03:51.501245Z",
     "iopub.status.idle": "2023-12-03T19:03:51.520169Z",
     "shell.execute_reply": "2023-12-03T19:03:51.519122Z",
     "shell.execute_reply.started": "2023-12-03T19:03:51.501568Z"
    }
   },
   "outputs": [],
   "source": [
    "torch.save(model.state_dict(), \"matrix_factorixation.pt\")"
   ]
  },
  {
   "cell_type": "markdown",
   "metadata": {},
   "source": [
    "## Prediction"
   ]
  },
  {
   "cell_type": "code",
   "execution_count": null,
   "metadata": {
    "execution": {
     "iopub.status.busy": "2023-12-03T19:02:11.059656Z",
     "iopub.status.idle": "2023-12-03T19:02:11.059983Z",
     "shell.execute_reply": "2023-12-03T19:02:11.059836Z",
     "shell.execute_reply.started": "2023-12-03T19:02:11.059820Z"
    }
   },
   "outputs": [],
   "source": [
    "# model = MatrixFactorization(num_user, num_item)\n",
    "# model.load_state_dict(torch.load('/kaggle/working/matrix_factorixation.pt'))"
   ]
  },
  {
   "cell_type": "code",
   "execution_count": 12,
   "metadata": {
    "execution": {
     "iopub.execute_input": "2023-12-03T19:03:57.189539Z",
     "iopub.status.busy": "2023-12-03T19:03:57.188688Z",
     "iopub.status.idle": "2023-12-03T19:03:57.241867Z",
     "shell.execute_reply": "2023-12-03T19:03:57.240800Z",
     "shell.execute_reply.started": "2023-12-03T19:03:57.189505Z"
    }
   },
   "outputs": [
    {
     "data": {
      "text/html": [
       "<div>\n",
       "<style scoped>\n",
       "    .dataframe tbody tr th:only-of-type {\n",
       "        vertical-align: middle;\n",
       "    }\n",
       "\n",
       "    .dataframe tbody tr th {\n",
       "        vertical-align: top;\n",
       "    }\n",
       "\n",
       "    .dataframe thead th {\n",
       "        text-align: right;\n",
       "    }\n",
       "</style>\n",
       "<table border=\"1\" class=\"dataframe\">\n",
       "  <thead>\n",
       "    <tr style=\"text-align: right;\">\n",
       "      <th></th>\n",
       "      <th>movie_id</th>\n",
       "      <th>movie_title</th>\n",
       "      <th>release_date</th>\n",
       "      <th>unknown</th>\n",
       "      <th>action</th>\n",
       "      <th>adventure</th>\n",
       "      <th>animation</th>\n",
       "      <th>childrens</th>\n",
       "      <th>comedy</th>\n",
       "      <th>crime</th>\n",
       "      <th>...</th>\n",
       "      <th>fantasy</th>\n",
       "      <th>film_noir</th>\n",
       "      <th>horror</th>\n",
       "      <th>musical</th>\n",
       "      <th>mystery</th>\n",
       "      <th>romance</th>\n",
       "      <th>sci_fi</th>\n",
       "      <th>thriller</th>\n",
       "      <th>war</th>\n",
       "      <th>western</th>\n",
       "    </tr>\n",
       "  </thead>\n",
       "  <tbody>\n",
       "    <tr>\n",
       "      <th>0</th>\n",
       "      <td>1</td>\n",
       "      <td>Toy Story (1995)</td>\n",
       "      <td>01-Jan-1995</td>\n",
       "      <td>0</td>\n",
       "      <td>0</td>\n",
       "      <td>0</td>\n",
       "      <td>1</td>\n",
       "      <td>1</td>\n",
       "      <td>1</td>\n",
       "      <td>0</td>\n",
       "      <td>...</td>\n",
       "      <td>0</td>\n",
       "      <td>0</td>\n",
       "      <td>0</td>\n",
       "      <td>0</td>\n",
       "      <td>0</td>\n",
       "      <td>0</td>\n",
       "      <td>0</td>\n",
       "      <td>0</td>\n",
       "      <td>0</td>\n",
       "      <td>0</td>\n",
       "    </tr>\n",
       "    <tr>\n",
       "      <th>1</th>\n",
       "      <td>2</td>\n",
       "      <td>GoldenEye (1995)</td>\n",
       "      <td>01-Jan-1995</td>\n",
       "      <td>0</td>\n",
       "      <td>1</td>\n",
       "      <td>1</td>\n",
       "      <td>0</td>\n",
       "      <td>0</td>\n",
       "      <td>0</td>\n",
       "      <td>0</td>\n",
       "      <td>...</td>\n",
       "      <td>0</td>\n",
       "      <td>0</td>\n",
       "      <td>0</td>\n",
       "      <td>0</td>\n",
       "      <td>0</td>\n",
       "      <td>0</td>\n",
       "      <td>0</td>\n",
       "      <td>1</td>\n",
       "      <td>0</td>\n",
       "      <td>0</td>\n",
       "    </tr>\n",
       "    <tr>\n",
       "      <th>2</th>\n",
       "      <td>3</td>\n",
       "      <td>Four Rooms (1995)</td>\n",
       "      <td>01-Jan-1995</td>\n",
       "      <td>0</td>\n",
       "      <td>0</td>\n",
       "      <td>0</td>\n",
       "      <td>0</td>\n",
       "      <td>0</td>\n",
       "      <td>0</td>\n",
       "      <td>0</td>\n",
       "      <td>...</td>\n",
       "      <td>0</td>\n",
       "      <td>0</td>\n",
       "      <td>0</td>\n",
       "      <td>0</td>\n",
       "      <td>0</td>\n",
       "      <td>0</td>\n",
       "      <td>0</td>\n",
       "      <td>1</td>\n",
       "      <td>0</td>\n",
       "      <td>0</td>\n",
       "    </tr>\n",
       "    <tr>\n",
       "      <th>3</th>\n",
       "      <td>4</td>\n",
       "      <td>Get Shorty (1995)</td>\n",
       "      <td>01-Jan-1995</td>\n",
       "      <td>0</td>\n",
       "      <td>1</td>\n",
       "      <td>0</td>\n",
       "      <td>0</td>\n",
       "      <td>0</td>\n",
       "      <td>1</td>\n",
       "      <td>0</td>\n",
       "      <td>...</td>\n",
       "      <td>0</td>\n",
       "      <td>0</td>\n",
       "      <td>0</td>\n",
       "      <td>0</td>\n",
       "      <td>0</td>\n",
       "      <td>0</td>\n",
       "      <td>0</td>\n",
       "      <td>0</td>\n",
       "      <td>0</td>\n",
       "      <td>0</td>\n",
       "    </tr>\n",
       "    <tr>\n",
       "      <th>4</th>\n",
       "      <td>5</td>\n",
       "      <td>Copycat (1995)</td>\n",
       "      <td>01-Jan-1995</td>\n",
       "      <td>0</td>\n",
       "      <td>0</td>\n",
       "      <td>0</td>\n",
       "      <td>0</td>\n",
       "      <td>0</td>\n",
       "      <td>0</td>\n",
       "      <td>1</td>\n",
       "      <td>...</td>\n",
       "      <td>0</td>\n",
       "      <td>0</td>\n",
       "      <td>0</td>\n",
       "      <td>0</td>\n",
       "      <td>0</td>\n",
       "      <td>0</td>\n",
       "      <td>0</td>\n",
       "      <td>1</td>\n",
       "      <td>0</td>\n",
       "      <td>0</td>\n",
       "    </tr>\n",
       "  </tbody>\n",
       "</table>\n",
       "<p>5 rows × 22 columns</p>\n",
       "</div>"
      ],
      "text/plain": [
       "   movie_id        movie_title release_date  unknown  action  adventure  \\\n",
       "0         1   Toy Story (1995)  01-Jan-1995        0       0          0   \n",
       "1         2   GoldenEye (1995)  01-Jan-1995        0       1          1   \n",
       "2         3  Four Rooms (1995)  01-Jan-1995        0       0          0   \n",
       "3         4  Get Shorty (1995)  01-Jan-1995        0       1          0   \n",
       "4         5     Copycat (1995)  01-Jan-1995        0       0          0   \n",
       "\n",
       "   animation  childrens  comedy  crime  ...  fantasy  film_noir  horror  \\\n",
       "0          1          1       1      0  ...        0          0       0   \n",
       "1          0          0       0      0  ...        0          0       0   \n",
       "2          0          0       0      0  ...        0          0       0   \n",
       "3          0          0       1      0  ...        0          0       0   \n",
       "4          0          0       0      1  ...        0          0       0   \n",
       "\n",
       "   musical  mystery  romance  sci_fi  thriller  war  western  \n",
       "0        0        0        0       0         0    0        0  \n",
       "1        0        0        0       0         1    0        0  \n",
       "2        0        0        0       0         1    0        0  \n",
       "3        0        0        0       0         0    0        0  \n",
       "4        0        0        0       0         1    0        0  \n",
       "\n",
       "[5 rows x 22 columns]"
      ]
     },
     "execution_count": 12,
     "metadata": {},
     "output_type": "execute_result"
    }
   ],
   "source": [
    "# item_df = pd.read_csv('/kaggle/input/itemsmovie/item_df.csv')\n",
    "item_df = pd.read_csv('../data/interim/item_df.csv')\n",
    "item_df.head()"
   ]
  },
  {
   "cell_type": "code",
   "execution_count": 13,
   "metadata": {
    "execution": {
     "iopub.execute_input": "2023-12-03T19:03:59.693186Z",
     "iopub.status.busy": "2023-12-03T19:03:59.692270Z",
     "iopub.status.idle": "2023-12-03T19:03:59.719350Z",
     "shell.execute_reply": "2023-12-03T19:03:59.718293Z",
     "shell.execute_reply.started": "2023-12-03T19:03:59.693151Z"
    }
   },
   "outputs": [
    {
     "name": "stdout",
     "output_type": "stream",
     "text": [
      "<class 'pandas.core.frame.DataFrame'>\n",
      "RangeIndex: 100000 entries, 0 to 99999\n",
      "Data columns (total 3 columns):\n",
      " #   Column    Non-Null Count   Dtype\n",
      "---  ------    --------------   -----\n",
      " 0   user_id   100000 non-null  int64\n",
      " 1   movie_id  100000 non-null  int64\n",
      " 2   rating    100000 non-null  int64\n",
      "dtypes: int64(3)\n",
      "memory usage: 2.3 MB\n"
     ]
    }
   ],
   "source": [
    "rating_df.info()"
   ]
  },
  {
   "cell_type": "code",
   "execution_count": 14,
   "metadata": {
    "execution": {
     "iopub.execute_input": "2023-12-03T19:04:01.907505Z",
     "iopub.status.busy": "2023-12-03T19:04:01.907045Z",
     "iopub.status.idle": "2023-12-03T19:04:01.921787Z",
     "shell.execute_reply": "2023-12-03T19:04:01.920732Z",
     "shell.execute_reply.started": "2023-12-03T19:04:01.907474Z"
    }
   },
   "outputs": [],
   "source": [
    "from sklearn.preprocessing import MinMaxScaler\n",
    "\n",
    "def predict_rating(rec_df, rating_df):\n",
    "    \"\"\"\n",
    "        Predict ratings for movies in rec_df using the model\n",
    "\n",
    "        Parameters:\n",
    "        - rec_df (DataFrame): DataFrame containing user_id and movie_id pairs for which to predict ratings\n",
    "        - rating_df (DataFrame): DataFrame containing historical user-item ratings\n",
    "\n",
    "        Returns:\n",
    "        - rec_df (DataFrame): DataFrame with predicted ratings added\n",
    "        - preds (numpy array): Array of predicted ratings\n",
    "    \"\"\"\n",
    "    \n",
    "    model.eval()\n",
    "    dataloader = DataLoader(MovieDataset(rec_df), batch_size=16, shuffle=False,)\n",
    "    pbar = tqdm(dataloader, total=len(dataloader))\n",
    "    preds = []\n",
    "    for data in pbar:\n",
    "        user = data['user']\n",
    "        item = data['item']\n",
    "        rating = data['rating']\n",
    "        user, item, rating = user.to(device), item.to(device), rating.to(device)\n",
    "\n",
    "        with torch.no_grad():\n",
    "            preds.append(model(user, item))\n",
    "\n",
    "    preds = torch.cat(preds).cpu().detach().numpy()\n",
    "    movie_ids = rec_df['movie_id'].unique()\n",
    "    \n",
    "    # Calculate average ratings for movies in rec_df\n",
    "    avg_ratings = rating_df[rating_df['movie_id'].isin(movie_ids)].groupby('movie_id')['rating'].mean()\n",
    "    scaler = MinMaxScaler(feature_range=(1, 5)) # Scale average ratings to range (1, 5)\n",
    "    avg_ratings = scaler.fit_transform(avg_ratings.values.reshape(-1, 1))\n",
    "    avg_ratings = avg_ratings.flatten()\n",
    "\n",
    "    rec_df['rating'] = rec_df['movie_id'].map(dict(zip(movie_ids, avg_ratings))).fillna(0)\n",
    "    return rec_df, preds\n",
    "\n",
    "\n",
    "def recommend_for_user(user_id, rating_df, item_df, top_n=10):\n",
    "    \"\"\"\n",
    "        Provide movie recommendations for a given user\n",
    "\n",
    "        Parameters:\n",
    "        - user_id (int): User for whom recommendations are requested\n",
    "        - rating_df (DataFrame): DataFrame containing historical user-item ratings\n",
    "        - item_df (DataFrame): DataFrame containing information about movies\n",
    "        - top_n (int): Number of top recommendations to display\n",
    "\n",
    "        Returns:\n",
    "        - None: Prints the top recommended movies and movies already watched by the user\n",
    "    \"\"\"\n",
    "    \n",
    "    rec_df = rating_df.query(\"user_id != @user_id\")\n",
    "    rec_df['user_id'] = user_id\n",
    "    rec_df = rec_df.drop_duplicates(subset=['user_id', 'movie_id'])\n",
    "\n",
    "    rec_df, preds = predict_rating(rec_df, rating_df)\n",
    "\n",
    "    d = dict(zip(item_df.movie_id, item_df.movie_title))\n",
    "    rec_df['title'] = rec_df['movie_id'].map(d)\n",
    "    rec_df['rating'] = preds\n",
    "    rec_df['rating'] = preds.clip(1, 5)\n",
    "    rec_df = rec_df.sort_values('rating', ascending=False)\n",
    "\n",
    "    #  Print top_n recommended movies with their ratings\n",
    "    print('\\nRECOMMENDATIONS')\n",
    "    print(rec_df[['title','rating']].head(top_n))\n",
    "\n",
    "    user_df = rating_df.query(\"user_id == @user_id\")\n",
    "    user_df['title'] = user_df['movie_id'].map(d)\n",
    "    user_df = user_df.sort_values('rating', ascending=False)\n",
    "\n",
    "    # Print top_n movies already watched by the user with their ratings\n",
    "    print('\\nWHAT ALREADY WATCHED')\n",
    "    print(user_df[['title','rating']].head(top_n))"
   ]
  },
  {
   "cell_type": "code",
   "execution_count": 18,
   "metadata": {
    "execution": {
     "iopub.execute_input": "2023-12-03T19:04:12.954757Z",
     "iopub.status.busy": "2023-12-03T19:04:12.953773Z",
     "iopub.status.idle": "2023-12-03T19:04:13.122625Z",
     "shell.execute_reply": "2023-12-03T19:04:13.121691Z",
     "shell.execute_reply.started": "2023-12-03T19:04:12.954717Z"
    }
   },
   "outputs": [
    {
     "name": "stdout",
     "output_type": "stream",
     "text": [
      "417\n"
     ]
    },
    {
     "name": "stderr",
     "output_type": "stream",
     "text": [
      "100%|██████████| 106/106 [00:00<00:00, 879.62it/s]"
     ]
    },
    {
     "name": "stdout",
     "output_type": "stream",
     "text": [
      "\n",
      "RECOMMENDATIONS\n",
      "                              title    rating\n",
      "33169           Legal Deceit (1997)  5.000000\n",
      "924          Shall We Dance? (1996)  4.811883\n",
      "794            Roman Holiday (1953)  4.801003\n",
      "372      Wrong Trousers, The (1993)  4.754656\n",
      "2923        Daytrippers, The (1996)  4.717150\n",
      "1498          Paths of Glory (1957)  4.712457\n",
      "37535      Naked in New York (1994)  4.683064\n",
      "145        Good Will Hunting (1997)  4.632608\n",
      "1565   Cat on a Hot Tin Roof (1958)  4.615756\n",
      "26400              Hugo Pool (1997)  4.603000\n",
      "\n",
      "WHAT ALREADY WATCHED\n",
      "                                                 title  rating\n",
      "46515                                   Aladdin (1992)       5\n",
      "49929  Cook the Thief His Wife & Her Lover, The (1989)       5\n",
      "61879                          Boys on the Side (1995)       5\n",
      "22384                      Hudsucker Proxy, The (1994)       5\n",
      "60034                                Phenomenon (1996)       5\n",
      "32536                         Miller's Crossing (1990)       5\n",
      "33676                               Real Genius (1985)       5\n",
      "17414                           Terminator, The (1984)       5\n",
      "53702                         Professional, The (1994)       5\n",
      "52340                               Sling Blade (1996)       5\n"
     ]
    },
    {
     "name": "stderr",
     "output_type": "stream",
     "text": [
      "\n"
     ]
    }
   ],
   "source": [
    "import random\n",
    "\n",
    "user_id = random.choice(rating_df.user_id.values)\n",
    "print(user_id)\n",
    "\n",
    "recommend_for_user(user_id, rating_df, item_df)"
   ]
  },
  {
   "cell_type": "markdown",
   "metadata": {},
   "source": [
    "## Evaluation "
   ]
  },
  {
   "cell_type": "markdown",
   "metadata": {},
   "source": [
    "To evaluate the model, I chose a leave-one-out cross-validation approach. For each user, we excluded one movie at a time from their watched list and predicted its rating. Then I calculate average MSE"
   ]
  },
  {
   "cell_type": "code",
   "execution_count": 85,
   "metadata": {
    "execution": {
     "iopub.execute_input": "2023-12-03T20:25:34.460356Z",
     "iopub.status.busy": "2023-12-03T20:25:34.459596Z",
     "iopub.status.idle": "2023-12-03T20:27:13.231622Z",
     "shell.execute_reply": "2023-12-03T20:27:13.230650Z",
     "shell.execute_reply.started": "2023-12-03T20:25:34.460324Z"
    }
   },
   "outputs": [
    {
     "name": "stderr",
     "output_type": "stream",
     "text": [
      "Users: 100%|██████████| 943/943 [01:38<00:00,  9.56user/s]"
     ]
    },
    {
     "name": "stdout",
     "output_type": "stream",
     "text": [
      "MSE: 1.1689\n"
     ]
    },
    {
     "name": "stderr",
     "output_type": "stream",
     "text": [
      "\n"
     ]
    }
   ],
   "source": [
    "from sklearn.metrics import mean_squared_error, precision_score, recall_score\n",
    "import numpy as np\n",
    "\n",
    "def predict_rating_for_user(model, user_id, watched_movies, target_movie_id, device):\n",
    "    \"\"\"\n",
    "        Predict the rating for a target movie given the user's watched movies.\n",
    "\n",
    "        Parameters:\n",
    "        - model: Trained model\n",
    "        - user_id: User ID for whom to make the prediction\n",
    "        - watched_movies: List of movie IDs that the user has already watched\n",
    "        - target_movie_id: Movie ID for which to predict the rating\n",
    "        - device: CPU or GPU\n",
    "\n",
    "        Returns:\n",
    "        - prediction: Predicted rating for the target movie\n",
    "    \"\"\"\n",
    "    model.eval()\n",
    "    user_input = torch.tensor([user_id - 1], dtype=torch.long).to(device)\n",
    "    watched_movie_input = torch.tensor([movie_id - 1 for movie_id in watched_movies], dtype=torch.long).to(device)\n",
    "    target_movie_input = torch.tensor([target_movie_id - 1], dtype=torch.long).to(device)\n",
    "\n",
    "    # Extract embeddings for the user and movies\n",
    "    user_embedding = model.user_embeddings(user_input)\n",
    "    watched_movie_embeddings = model.item_embeddings(watched_movie_input)\n",
    "    target_movie_embedding = model.item_embeddings(target_movie_input)\n",
    "\n",
    "    # Compute the dot product of user and target movie embeddings\n",
    "    prediction = torch.sum(user_embedding * target_movie_embedding)\n",
    "    \n",
    "    return prediction.item()\n",
    "\n",
    "\n",
    "true_labels = []\n",
    "predicted_scores = []\n",
    "unique_user_ids = rating_df['user_id'].unique()\n",
    "\n",
    "for user_id in tqdm(unique_user_ids, desc=\"Users\", unit=\"user\"):\n",
    "    user_df = rating_df[rating_df['user_id'] == user_id].copy()\n",
    "\n",
    "    for index, row in user_df.iterrows():\n",
    "        movie_id = row['movie_id']\n",
    "        user_df_excluded = user_df[user_df['movie_id'] != movie_id]\n",
    "\n",
    "        pred_rating = predict_rating_for_user(model, user_id, np.array(user_df_excluded['movie_id']), movie_id, device)\n",
    "        true_rating = row['rating']\n",
    "        \n",
    "        true_labels.append(true_rating)\n",
    "        predicted_scores.append(pred_rating)\n",
    "\n",
    "ratings_array = [max(1, min(round(pred), 5)) for pred in predicted_scores]\n",
    "mse = mean_squared_error(true_labels, ratings_array)\n",
    "\n",
    "print(f\"MSE: {mse}\")"
   ]
  },
  {
   "cell_type": "code",
   "execution_count": 86,
   "metadata": {
    "execution": {
     "iopub.execute_input": "2023-12-03T20:27:18.024659Z",
     "iopub.status.busy": "2023-12-03T20:27:18.024259Z",
     "iopub.status.idle": "2023-12-03T20:27:19.649586Z",
     "shell.execute_reply": "2023-12-03T20:27:19.648609Z",
     "shell.execute_reply.started": "2023-12-03T20:27:18.024626Z"
    }
   },
   "outputs": [
    {
     "data": {
      "image/png": "[encoded data removed]",
      "text/plain": [
       "<Figure size 1200x600 with 2 Axes>"
      ]
     },
     "metadata": {},
     "output_type": "display_data"
    }
   ],
   "source": [
    "plt.figure(figsize=(12, 6))\n",
    "\n",
    "# Distribution of true ratings\n",
    "plt.subplot(1, 2, 1)\n",
    "plt.hist(true_labels, bins=5, edgecolor='black')\n",
    "plt.title('Distribution of True Ratings')\n",
    "plt.xlabel('True Ratings')\n",
    "plt.ylabel('Frequency')\n",
    "\n",
    "# Distribution of predicted labels\n",
    "plt.subplot(1, 2, 2)\n",
    "plt.hist(ratings_array, bins=5, edgecolor='black')\n",
    "plt.title('Distribution of Predicted Ratings')\n",
    "plt.xlabel('Predicted Ratings')\n",
    "plt.ylabel('Frequency')\n",
    "\n",
    "plt.tight_layout()\n",
    "plt.show()"
   ]
  }
 ],
 "metadata": {
  "kaggle": {
   "accelerator": "nvidiaTeslaT4",
   "dataSources": [
    {
     "datasetId": 4082843,
     "sourceId": 7086273,
     "sourceType": "datasetVersion"
    },
    {
     "datasetId": 4083303,
     "sourceId": 7086975,
     "sourceType": "datasetVersion"
    },
    {
     "datasetId": 4098188,
     "sourceId": 7108153,
     "sourceType": "datasetVersion"
    }
   ],
   "dockerImageVersionId": 30588,
   "isGpuEnabled": true,
   "isInternetEnabled": true,
   "language": "python",
   "sourceType": "notebook"
  },
  "kernelspec": {
   "display_name": "Python 3 (ipykernel)",
   "language": "python",
   "name": "python3"
  },
  "language_info": {
   "codemirror_mode": {
    "name": "ipython",
    "version": 3
   },
   "file_extension": ".py",
   "mimetype": "text/x-python",
   "name": "python",
   "nbconvert_exporter": "python",
   "pygments_lexer": "ipython3",
   "version": "3.9.13"
  }
 },
 "nbformat": 4,
 "nbformat_minor": 4
}
